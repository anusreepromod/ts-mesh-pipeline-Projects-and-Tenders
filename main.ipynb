{
 "cells": [
  {
   "cell_type": "code",
   "execution_count": 1,
   "id": "10fc1549-894b-4e84-8703-5cbb5be1a3e9",
   "metadata": {},
   "outputs": [],
   "source": [
    "from bs4 import BeautifulSoup\n",
    "import requests\n",
    "import pandas as pd"
   ]
  },
  {
   "cell_type": "code",
   "execution_count": 2,
   "id": "20f119b3-db46-464c-9cce-fb421af3fa85",
   "metadata": {},
   "outputs": [],
   "source": [
    "url = \"https://etenders.gov.in/eprocure/app\"\n",
    "html_data  = requests.get(url).text"
   ]
  },
  {
   "cell_type": "code",
   "execution_count": 3,
   "id": "a494b787-7e36-4de7-90fe-4828873e875e",
   "metadata": {},
   "outputs": [
    {
     "name": "stdout",
     "output_type": "stream",
     "text": [
      "<title>Government eProcurement System</title>\n"
     ]
    }
   ],
   "source": [
    "soup = BeautifulSoup(html_data,'html.parser')\n",
    "print(soup.title)"
   ]
  },
  {
   "cell_type": "code",
   "execution_count": 4,
   "id": "e8ed4a18-df1a-4cf2-9e38-6b706f5c52e3",
   "metadata": {},
   "outputs": [],
   "source": [
    "processeddate=soup.find('span', attrs={'id':'If_0_20'})\n"
   ]
  },
  {
   "cell_type": "code",
   "execution_count": 5,
   "id": "6f29dd77-0227-46ce-870e-49e233a0783a",
   "metadata": {},
   "outputs": [
    {
     "name": "stdout",
     "output_type": "stream",
     "text": [
      "['Tender Title', 'Reference No', 'Closing Date', 'Bid Opening Date']\n"
     ]
    }
   ],
   "source": [
    "results=[]\n",
    "for element in processeddate.find('tr', attrs={'class':'list_header'}):\n",
    "    \n",
    "    if (element not in results):\n",
    "        results.append(element.text)\n",
    "results.pop(0)\n",
    "print(results)"
   ]
  },
  {
   "cell_type": "code",
   "execution_count": 9,
   "id": "9f5aefff-eb3f-43f5-b9b1-93d4aa87c34a",
   "metadata": {},
   "outputs": [],
   "source": [
    "import numpy as np\n",
    "tendertitle=[]\n",
    "reference=[]\n",
    "closingdate=[]\n",
    "bidopeneingdate=[]\n",
    "for j in soup.find_all('table', attrs={'id':'activeTenders'}):\n",
    " row_data = j.find_all('td',attrs={'width':'30%'})\n",
    " row_data_1=j.find_all('td',attrs={'width':'20%'})\n",
    " row_data_2=j.find_all('td',attrs={'width':'25%'})[:20:2]\n",
    " row_data_3=j.find_all('td',attrs={'width':'25%'})[1:20:2]\n",
    " for h in row_data: \n",
    "    tendertitle.append(h.text)\n",
    " for i in row_data_1:\n",
    "    reference.append(i.text)\n",
    " for j in row_data_2:\n",
    "     closingdate.append(j.text)\n",
    " for k in row_data_3:\n",
    "     bidopeneingdate.append(k.text)\n",
    " \n",
    " \n",
    "percentile_list = pd.DataFrame(\n",
    "    {'Tender Title': tendertitle,\n",
    "     'Reference No': reference,\n",
    "     'Closing Date': closingdate,\n",
    "     'Bid Opening Date':bidopeneingdate\n",
    "    })"
   ]
  },
  {
   "cell_type": "code",
   "execution_count": 10,
   "id": "e527e031-c831-44d0-8a8e-7eaa1cf1eac5",
   "metadata": {},
   "outputs": [
    {
     "data": {
      "text/html": [
       "<div>\n",
       "<style scoped>\n",
       "    .dataframe tbody tr th:only-of-type {\n",
       "        vertical-align: middle;\n",
       "    }\n",
       "\n",
       "    .dataframe tbody tr th {\n",
       "        vertical-align: top;\n",
       "    }\n",
       "\n",
       "    .dataframe thead th {\n",
       "        text-align: right;\n",
       "    }\n",
       "</style>\n",
       "<table border=\"1\" class=\"dataframe\">\n",
       "  <thead>\n",
       "    <tr style=\"text-align: right;\">\n",
       "      <th></th>\n",
       "      <th>Tender Title</th>\n",
       "      <th>Reference No</th>\n",
       "      <th>Closing Date</th>\n",
       "      <th>Bid Opening Date</th>\n",
       "    </tr>\n",
       "  </thead>\n",
       "  <tbody>\n",
       "    <tr>\n",
       "      <th>0</th>\n",
       "      <td>1. Supply of Crushers Fabricated and Casting s...</td>\n",
       "      <td>RCF/MM/124-126(23)</td>\n",
       "      <td>03-Nov-2023 02:30 PM</td>\n",
       "      <td>04-Nov-2023 03:00 PM</td>\n",
       "    </tr>\n",
       "    <tr>\n",
       "      <th>1</th>\n",
       "      <td>2. MAJOR REPAIRS TO SEWAGE LINES NEAR QTR BLOC...</td>\n",
       "      <td>TE/CFA/12/EO/CIVIL/2023-24</td>\n",
       "      <td>01-Nov-2023 05:00 PM</td>\n",
       "      <td>02-Nov-2023 05:00 PM</td>\n",
       "    </tr>\n",
       "    <tr>\n",
       "      <th>2</th>\n",
       "      <td>3. Manual Arbor Press</td>\n",
       "      <td>KGuj Site/Stations/Unit-1 to 4/CMM/CAP/23435</td>\n",
       "      <td>07-Nov-2023 11:00 AM</td>\n",
       "      <td>08-Nov-2023 11:00 AM</td>\n",
       "    </tr>\n",
       "    <tr>\n",
       "      <th>3</th>\n",
       "      <td>4. Hiring of one number Dual Cabin Van Non AC ...</td>\n",
       "      <td>13/23-24/IMEE/MII/CISF DUAL CABIN VAN/DT18.10....</td>\n",
       "      <td>08-Nov-2023 02:00 PM</td>\n",
       "      <td>09-Nov-2023 03:00 PM</td>\n",
       "    </tr>\n",
       "    <tr>\n",
       "      <th>4</th>\n",
       "      <td>5. LED street light</td>\n",
       "      <td>MCD/TR/3437/2023_6_1_1/1</td>\n",
       "      <td>26-Oct-2023 11:00 AM</td>\n",
       "      <td>26-Oct-2023 11:30 AM</td>\n",
       "    </tr>\n",
       "    <tr>\n",
       "      <th>5</th>\n",
       "      <td>6. PERCENTAGE RATE CONTRACT FOR INSIDE FACTORY...</td>\n",
       "      <td>TE/CFA/06/EO/CIVIL</td>\n",
       "      <td>26-Oct-2023 05:00 PM</td>\n",
       "      <td>27-Oct-2023 05:00 PM</td>\n",
       "    </tr>\n",
       "    <tr>\n",
       "      <th>6</th>\n",
       "      <td>7. LED street light</td>\n",
       "      <td>MCD/TR/4059/2023_6_1_1/1</td>\n",
       "      <td>26-Oct-2023 11:00 AM</td>\n",
       "      <td>26-Oct-2023 11:30 AM</td>\n",
       "    </tr>\n",
       "    <tr>\n",
       "      <th>7</th>\n",
       "      <td>8. LED street light</td>\n",
       "      <td>MCD/TR/3256/2023_6_1_1/1</td>\n",
       "      <td>26-Oct-2023 11:00 AM</td>\n",
       "      <td>26-Oct-2023 11:30 AM</td>\n",
       "    </tr>\n",
       "    <tr>\n",
       "      <th>8</th>\n",
       "      <td>9. Structural stability of factory and townshi...</td>\n",
       "      <td>CW/TE2305/RD2303/HEPF/EO/23-24</td>\n",
       "      <td>01-Nov-2023 02:00 PM</td>\n",
       "      <td>02-Nov-2023 02:30 PM</td>\n",
       "    </tr>\n",
       "    <tr>\n",
       "      <th>9</th>\n",
       "      <td>10. EEE/SZ/2023-24/Nit.60</td>\n",
       "      <td>MCD/TR/6737/2023_6_1_1/1</td>\n",
       "      <td>26-Oct-2023 10:00 AM</td>\n",
       "      <td>26-Oct-2023 01:00 PM</td>\n",
       "    </tr>\n",
       "  </tbody>\n",
       "</table>\n",
       "</div>"
      ],
      "text/plain": [
       "                                        Tender Title  \\\n",
       "0  1. Supply of Crushers Fabricated and Casting s...   \n",
       "1  2. MAJOR REPAIRS TO SEWAGE LINES NEAR QTR BLOC...   \n",
       "2                              3. Manual Arbor Press   \n",
       "3  4. Hiring of one number Dual Cabin Van Non AC ...   \n",
       "4                                5. LED street light   \n",
       "5  6. PERCENTAGE RATE CONTRACT FOR INSIDE FACTORY...   \n",
       "6                                7. LED street light   \n",
       "7                                8. LED street light   \n",
       "8  9. Structural stability of factory and townshi...   \n",
       "9                          10. EEE/SZ/2023-24/Nit.60   \n",
       "\n",
       "                                        Reference No          Closing Date  \\\n",
       "0                                 RCF/MM/124-126(23)  03-Nov-2023 02:30 PM   \n",
       "1                         TE/CFA/12/EO/CIVIL/2023-24  01-Nov-2023 05:00 PM   \n",
       "2       KGuj Site/Stations/Unit-1 to 4/CMM/CAP/23435  07-Nov-2023 11:00 AM   \n",
       "3  13/23-24/IMEE/MII/CISF DUAL CABIN VAN/DT18.10....  08-Nov-2023 02:00 PM   \n",
       "4                           MCD/TR/3437/2023_6_1_1/1  26-Oct-2023 11:00 AM   \n",
       "5                                 TE/CFA/06/EO/CIVIL  26-Oct-2023 05:00 PM   \n",
       "6                           MCD/TR/4059/2023_6_1_1/1  26-Oct-2023 11:00 AM   \n",
       "7                           MCD/TR/3256/2023_6_1_1/1  26-Oct-2023 11:00 AM   \n",
       "8                     CW/TE2305/RD2303/HEPF/EO/23-24  01-Nov-2023 02:00 PM   \n",
       "9                           MCD/TR/6737/2023_6_1_1/1  26-Oct-2023 10:00 AM   \n",
       "\n",
       "       Bid Opening Date  \n",
       "0  04-Nov-2023 03:00 PM  \n",
       "1  02-Nov-2023 05:00 PM  \n",
       "2  08-Nov-2023 11:00 AM  \n",
       "3  09-Nov-2023 03:00 PM  \n",
       "4  26-Oct-2023 11:30 AM  \n",
       "5  27-Oct-2023 05:00 PM  \n",
       "6  26-Oct-2023 11:30 AM  \n",
       "7  26-Oct-2023 11:30 AM  \n",
       "8  02-Nov-2023 02:30 PM  \n",
       "9  26-Oct-2023 01:00 PM  "
      ]
     },
     "execution_count": 10,
     "metadata": {},
     "output_type": "execute_result"
    }
   ],
   "source": [
    "percentile_list"
   ]
  },
  {
   "cell_type": "code",
   "execution_count": null,
   "id": "d48d6a25-8503-435e-8a13-70d4cf4519bd",
   "metadata": {},
   "outputs": [],
   "source": []
  }
 ],
 "metadata": {
  "kernelspec": {
   "display_name": "Python 3 (ipykernel)",
   "language": "python",
   "name": "python3"
  },
  "language_info": {
   "codemirror_mode": {
    "name": "ipython",
    "version": 3
   },
   "file_extension": ".py",
   "mimetype": "text/x-python",
   "name": "python",
   "nbconvert_exporter": "python",
   "pygments_lexer": "ipython3",
   "version": "3.11.3"
  }
 },
 "nbformat": 4,
 "nbformat_minor": 5
}
